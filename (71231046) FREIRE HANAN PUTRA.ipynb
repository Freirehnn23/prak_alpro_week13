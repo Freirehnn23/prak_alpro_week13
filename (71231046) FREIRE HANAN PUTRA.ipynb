{
 "cells": [
  {
   "cell_type": "code",
   "execution_count": 2,
   "id": "cd81c13f",
   "metadata": {},
   "outputs": [
    {
     "name": "stdout",
     "output_type": "stream",
     "text": [
      "True\n"
     ]
    }
   ],
   "source": [
    "def cek(tA):\n",
    "    acuan = tA[0]\n",
    "\n",
    "    for elemen in tA:\n",
    "        if elemen != acuan:\n",
    "            return False\n",
    "    return True\n",
    "\n",
    "tA = (90, 90, 90, 90)\n",
    "print(cek(tA))\n"
   ]
  },
  {
   "cell_type": "code",
   "execution_count": 3,
   "id": "ba600d04",
   "metadata": {},
   "outputs": [
    {
     "name": "stdout",
     "output_type": "stream",
     "text": [
      "NIM     : 71231046\n",
      "NAMA    : FREIRE HANAN PUTRA\n",
      "ALAMAT  : TUBABA, LAMPUNG\n",
      "\n",
      "NIM     : ('7', '1', '2', '3', '1', '0', '4', '6')\n",
      "NAMA DEPAN: ('R', 'E', 'I', 'R', 'E')\n",
      "NAMA TERBALIK: ('PUTRA', 'HANAN', 'FREIRE')\n"
     ]
    }
   ],
   "source": [
    "data = ('FREIRE HANAN PUTRA', '71231046', 'TUBABA, LAMPUNG')\n",
    "\n",
    "print(\"NIM     :\", data[1])\n",
    "print(\"NAMA    :\", data[0])\n",
    "print(\"ALAMAT  :\", data[2])\n",
    "\n",
    "nim_tuple = tuple(data[1])\n",
    "print(\"\\nNIM     :\", nim_tuple)\n",
    "\n",
    "nama_depan = tuple(data[0].split()[0])\n",
    "print(\"NAMA DEPAN:\", nama_depan[1:])\n",
    "\n",
    "nama_terbalik = tuple(reversed(data[0].split()))\n",
    "print(\"NAMA TERBALIK:\", nama_terbalik)\n"
   ]
  },
  {
   "cell_type": "code",
   "execution_count": 4,
   "id": "ce9bb274",
   "metadata": {},
   "outputs": [
    {
     "name": "stdout",
     "output_type": "stream",
     "text": [
      "Enter a file name: mbox-short.txt\n",
      "04 3\n",
      "06 1\n",
      "07 1\n",
      "09 2\n",
      "10 3\n",
      "11 6\n",
      "14 1\n",
      "15 2\n",
      "16 4\n",
      "17 2\n",
      "18 1\n",
      "19 1\n"
     ]
    }
   ],
   "source": [
    "input_file = input(\"Enter a file name: \")\n",
    "\n",
    "try:\n",
    "    buka_file = open(input_file)\n",
    "except:\n",
    "    print(\"File tidak ditemukan.\")\n",
    "    quit()\n",
    "\n",
    "hitung_jam = dict()\n",
    "for line in buka_file:\n",
    "    if line.startswith(\"From \"):\n",
    "        parts = line.split()\n",
    "        waktu = parts[5]\n",
    "        jam = waktu.split(':')[0]\n",
    "        hitung_jam[jam] = hitung_jam.get(jam, 0) + 1\n",
    "\n",
    "hasil = sorted(hitung_jam.items())\n",
    "for jam, jumlah in hasil:\n",
    "    print(jam, jumlah)\n"
   ]
  },
  {
   "cell_type": "code",
   "execution_count": null,
   "id": "f706d837",
   "metadata": {},
   "outputs": [],
   "source": []
  }
 ],
 "metadata": {
  "kernelspec": {
   "display_name": "Python 3 (ipykernel)",
   "language": "python",
   "name": "python3"
  },
  "language_info": {
   "codemirror_mode": {
    "name": "ipython",
    "version": 3
   },
   "file_extension": ".py",
   "mimetype": "text/x-python",
   "name": "python",
   "nbconvert_exporter": "python",
   "pygments_lexer": "ipython3",
   "version": "3.11.5"
  }
 },
 "nbformat": 4,
 "nbformat_minor": 5
}
